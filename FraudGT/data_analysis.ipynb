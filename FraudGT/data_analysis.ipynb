{
 "cells": [
  {
   "cell_type": "code",
   "execution_count": 1,
   "metadata": {},
   "outputs": [],
   "source": [
    "import torch\n",
    "import pandas as pd"
   ]
  },
  {
   "cell_type": "code",
   "execution_count": 2,
   "metadata": {},
   "outputs": [],
   "source": [
    "data = torch.load('aml_datasets/Small-HI/processed/data.pt')\n",
    "ports = torch.load('aml_datasets/Small-HI/processed/ports.pt')\n",
    "formatted = pd.read_csv('aml_datasets/formatted_transactions.csv')"
   ]
  },
  {
   "cell_type": "code",
   "execution_count": 16,
   "metadata": {},
   "outputs": [
    {
     "data": {
      "text/html": [
       "<div>\n",
       "<style scoped>\n",
       "    .dataframe tbody tr th:only-of-type {\n",
       "        vertical-align: middle;\n",
       "    }\n",
       "\n",
       "    .dataframe tbody tr th {\n",
       "        vertical-align: top;\n",
       "    }\n",
       "\n",
       "    .dataframe thead th {\n",
       "        text-align: right;\n",
       "    }\n",
       "</style>\n",
       "<table border=\"1\" class=\"dataframe\">\n",
       "  <thead>\n",
       "    <tr style=\"text-align: right;\">\n",
       "      <th></th>\n",
       "      <th>EdgeID</th>\n",
       "      <th>from_id</th>\n",
       "      <th>to_id</th>\n",
       "      <th>Timestamp</th>\n",
       "      <th>Amount Sent</th>\n",
       "      <th>Sent Currency</th>\n",
       "      <th>Amount Received</th>\n",
       "      <th>Received Currency</th>\n",
       "      <th>Payment Format</th>\n",
       "      <th>Is Laundering</th>\n",
       "    </tr>\n",
       "  </thead>\n",
       "  <tbody>\n",
       "    <tr>\n",
       "      <th>0</th>\n",
       "      <td>1827</td>\n",
       "      <td>3225</td>\n",
       "      <td>3225</td>\n",
       "      <td>-345590</td>\n",
       "      <td>3.490000e+00</td>\n",
       "      <td>2</td>\n",
       "      <td>3.490000e+00</td>\n",
       "      <td>2</td>\n",
       "      <td>3</td>\n",
       "      <td>0</td>\n",
       "    </tr>\n",
       "    <tr>\n",
       "      <th>1</th>\n",
       "      <td>2453</td>\n",
       "      <td>4321</td>\n",
       "      <td>4321</td>\n",
       "      <td>-345590</td>\n",
       "      <td>3.462677e+05</td>\n",
       "      <td>2</td>\n",
       "      <td>3.462677e+05</td>\n",
       "      <td>2</td>\n",
       "      <td>3</td>\n",
       "      <td>0</td>\n",
       "    </tr>\n",
       "    <tr>\n",
       "      <th>2</th>\n",
       "      <td>2686</td>\n",
       "      <td>4744</td>\n",
       "      <td>4745</td>\n",
       "      <td>-345590</td>\n",
       "      <td>4.151570e+03</td>\n",
       "      <td>2</td>\n",
       "      <td>4.151570e+03</td>\n",
       "      <td>2</td>\n",
       "      <td>2</td>\n",
       "      <td>0</td>\n",
       "    </tr>\n",
       "    <tr>\n",
       "      <th>3</th>\n",
       "      <td>4205</td>\n",
       "      <td>7381</td>\n",
       "      <td>7382</td>\n",
       "      <td>-345590</td>\n",
       "      <td>2.169124e+09</td>\n",
       "      <td>11</td>\n",
       "      <td>2.169124e+09</td>\n",
       "      <td>11</td>\n",
       "      <td>4</td>\n",
       "      <td>0</td>\n",
       "    </tr>\n",
       "    <tr>\n",
       "      <th>4</th>\n",
       "      <td>4309</td>\n",
       "      <td>7561</td>\n",
       "      <td>7562</td>\n",
       "      <td>-345590</td>\n",
       "      <td>2.866420e+03</td>\n",
       "      <td>2</td>\n",
       "      <td>2.866420e+03</td>\n",
       "      <td>2</td>\n",
       "      <td>2</td>\n",
       "      <td>0</td>\n",
       "    </tr>\n",
       "    <tr>\n",
       "      <th>...</th>\n",
       "      <td>...</td>\n",
       "      <td>...</td>\n",
       "      <td>...</td>\n",
       "      <td>...</td>\n",
       "      <td>...</td>\n",
       "      <td>...</td>\n",
       "      <td>...</td>\n",
       "      <td>...</td>\n",
       "      <td>...</td>\n",
       "      <td>...</td>\n",
       "    </tr>\n",
       "    <tr>\n",
       "      <th>99995</th>\n",
       "      <td>53360</td>\n",
       "      <td>75404</td>\n",
       "      <td>75405</td>\n",
       "      <td>818170</td>\n",
       "      <td>1.567634e+04</td>\n",
       "      <td>2</td>\n",
       "      <td>1.567634e+04</td>\n",
       "      <td>2</td>\n",
       "      <td>1</td>\n",
       "      <td>1</td>\n",
       "    </tr>\n",
       "    <tr>\n",
       "      <th>99996</th>\n",
       "      <td>62301</td>\n",
       "      <td>84951</td>\n",
       "      <td>84951</td>\n",
       "      <td>822490</td>\n",
       "      <td>6.259100e+04</td>\n",
       "      <td>14</td>\n",
       "      <td>1.108492e+04</td>\n",
       "      <td>2</td>\n",
       "      <td>1</td>\n",
       "      <td>0</td>\n",
       "    </tr>\n",
       "    <tr>\n",
       "      <th>99997</th>\n",
       "      <td>13057</td>\n",
       "      <td>22007</td>\n",
       "      <td>22008</td>\n",
       "      <td>828610</td>\n",
       "      <td>1.414157e+04</td>\n",
       "      <td>8</td>\n",
       "      <td>1.414157e+04</td>\n",
       "      <td>8</td>\n",
       "      <td>1</td>\n",
       "      <td>1</td>\n",
       "    </tr>\n",
       "    <tr>\n",
       "      <th>99998</th>\n",
       "      <td>97793</td>\n",
       "      <td>117636</td>\n",
       "      <td>82828</td>\n",
       "      <td>832450</td>\n",
       "      <td>5.681730e+03</td>\n",
       "      <td>2</td>\n",
       "      <td>5.681730e+03</td>\n",
       "      <td>2</td>\n",
       "      <td>1</td>\n",
       "      <td>1</td>\n",
       "    </tr>\n",
       "    <tr>\n",
       "      <th>99999</th>\n",
       "      <td>15821</td>\n",
       "      <td>26306</td>\n",
       "      <td>26306</td>\n",
       "      <td>972010</td>\n",
       "      <td>1.525326e+06</td>\n",
       "      <td>12</td>\n",
       "      <td>1.235022e+04</td>\n",
       "      <td>1</td>\n",
       "      <td>1</td>\n",
       "      <td>0</td>\n",
       "    </tr>\n",
       "  </tbody>\n",
       "</table>\n",
       "<p>100000 rows × 10 columns</p>\n",
       "</div>"
      ],
      "text/plain": [
       "       EdgeID  from_id  to_id  Timestamp   Amount Sent  Sent Currency  \\\n",
       "0        1827     3225   3225    -345590  3.490000e+00              2   \n",
       "1        2453     4321   4321    -345590  3.462677e+05              2   \n",
       "2        2686     4744   4745    -345590  4.151570e+03              2   \n",
       "3        4205     7381   7382    -345590  2.169124e+09             11   \n",
       "4        4309     7561   7562    -345590  2.866420e+03              2   \n",
       "...       ...      ...    ...        ...           ...            ...   \n",
       "99995   53360    75404  75405     818170  1.567634e+04              2   \n",
       "99996   62301    84951  84951     822490  6.259100e+04             14   \n",
       "99997   13057    22007  22008     828610  1.414157e+04              8   \n",
       "99998   97793   117636  82828     832450  5.681730e+03              2   \n",
       "99999   15821    26306  26306     972010  1.525326e+06             12   \n",
       "\n",
       "       Amount Received  Received Currency  Payment Format  Is Laundering  \n",
       "0         3.490000e+00                  2               3              0  \n",
       "1         3.462677e+05                  2               3              0  \n",
       "2         4.151570e+03                  2               2              0  \n",
       "3         2.169124e+09                 11               4              0  \n",
       "4         2.866420e+03                  2               2              0  \n",
       "...                ...                ...             ...            ...  \n",
       "99995     1.567634e+04                  2               1              1  \n",
       "99996     1.108492e+04                  2               1              0  \n",
       "99997     1.414157e+04                  8               1              1  \n",
       "99998     5.681730e+03                  2               1              1  \n",
       "99999     1.235022e+04                  1               1              0  \n",
       "\n",
       "[100000 rows x 10 columns]"
      ]
     },
     "execution_count": 16,
     "metadata": {},
     "output_type": "execute_result"
    }
   ],
   "source": [
    "formatted"
   ]
  },
  {
   "cell_type": "code",
   "execution_count": 27,
   "metadata": {},
   "outputs": [
    {
     "data": {
      "text/plain": [
       "tensor(0.)"
      ]
     },
     "execution_count": 27,
     "metadata": {},
     "output_type": "execute_result"
    }
   ],
   "source": [
    "\n",
    "ports['train'][0][0][0]"
   ]
  },
  {
   "cell_type": "code",
   "execution_count": null,
   "metadata": {},
   "outputs": [],
   "source": []
  },
  {
   "cell_type": "code",
   "execution_count": 3,
   "metadata": {},
   "outputs": [],
   "source": [
    "train_data = data['train']\n",
    "val_data = data['val']\n",
    "test_data = data['test']\n",
    "\n",
    "# Access node attributes\n",
    "train_node_attr = train_data['node'].x\n",
    "val_node_attr = val_data['node'].x\n",
    "test_node_attr = test_data['node'].x"
   ]
  },
  {
   "cell_type": "code",
   "execution_count": 7,
   "metadata": {},
   "outputs": [
    {
     "data": {
      "text/plain": [
       "torch.Size([86171])"
      ]
     },
     "execution_count": 7,
     "metadata": {},
     "output_type": "execute_result"
    }
   ],
   "source": [
    "train_data[('node', 'to', 'node')].edge_index.unique().size()"
   ]
  },
  {
   "cell_type": "code",
   "execution_count": 31,
   "metadata": {},
   "outputs": [
    {
     "data": {
      "text/plain": [
       "tensor([[  3225,   4321,   4745,  ..., 101360, 101535,  76184],\n",
       "        [  3225,   4321,   4744,  ..., 101359,  30443, 115792]])"
      ]
     },
     "execution_count": 31,
     "metadata": {},
     "output_type": "execute_result"
    }
   ],
   "source": [
    "#train_y = train_data[('node', 'rev_to', 'node')].y\n",
    "train_edge_index = train_data[('node', 'rev_to', 'node')].edge_index\n",
    "train_edge_attr = train_data[('node', 'rev_to', 'node')].edge_attr\n",
    "\n",
    "train_edge_index"
   ]
  },
  {
   "cell_type": "code",
   "execution_count": 14,
   "metadata": {},
   "outputs": [
    {
     "data": {
      "text/plain": [
       "tensor([[-1.1913, -0.0200, -0.5039,  0.7679],\n",
       "        [-1.1913, -0.0184, -0.5039,  0.7679],\n",
       "        [-1.1913, -0.0200, -0.5039,  0.1598],\n",
       "        ...,\n",
       "        [ 1.8665, -0.0200,  0.0285,  0.1598],\n",
       "        [ 1.8665, -0.0200,  0.8270,  0.1598],\n",
       "        [ 1.8665, -0.0200, -0.7701, -0.4483]])"
      ]
     },
     "execution_count": 14,
     "metadata": {},
     "output_type": "execute_result"
    }
   ],
   "source": [
    "train_data[('node', 'rev_to', 'node')].edge_attr"
   ]
  },
  {
   "cell_type": "code",
   "execution_count": 32,
   "metadata": {},
   "outputs": [
    {
     "data": {
      "text/plain": [
       "tensor([[-1.1913, -0.0200, -0.5039,  0.7679],\n",
       "        [-1.1913, -0.0184, -0.5039,  0.7679],\n",
       "        [-1.1913, -0.0200, -0.5039,  0.1598],\n",
       "        ...,\n",
       "        [ 1.8665, -0.0200,  0.0285,  0.1598],\n",
       "        [ 1.8665, -0.0200,  0.8270,  0.1598],\n",
       "        [ 1.8665, -0.0200, -0.7701, -0.4483]])"
      ]
     },
     "execution_count": 32,
     "metadata": {},
     "output_type": "execute_result"
    }
   ],
   "source": [
    "train_data[('node', 'to', 'node')].edge_attr"
   ]
  },
  {
   "cell_type": "code",
   "execution_count": 47,
   "metadata": {},
   "outputs": [
    {
     "data": {
      "text/plain": [
       "tensor([1.])"
      ]
     },
     "execution_count": 47,
     "metadata": {},
     "output_type": "execute_result"
    }
   ],
   "source": [
    "train_node_attr.unique()"
   ]
  },
  {
   "cell_type": "code",
   "execution_count": 48,
   "metadata": {},
   "outputs": [],
   "source": [
    "train_y = train_data[('node', 'to', 'node')].y\n",
    "train_edge_index = train_data[('node', 'to', 'node')].edge_index\n",
    "train_edge_attr = train_data[('node', 'to', 'node')].edge_attr"
   ]
  },
  {
   "cell_type": "code",
   "execution_count": 50,
   "metadata": {},
   "outputs": [
    {
     "data": {
      "text/plain": [
       "tensor([0, 1])"
      ]
     },
     "execution_count": 50,
     "metadata": {},
     "output_type": "execute_result"
    }
   ],
   "source": [
    "train_y.unique()"
   ]
  },
  {
   "cell_type": "code",
   "execution_count": 42,
   "metadata": {},
   "outputs": [
    {
     "data": {
      "text/plain": [
       "tensor([[-1.1913, -0.0200, -0.5039,  0.7679],\n",
       "        [-1.1913, -0.0184, -0.5039,  0.7679],\n",
       "        [-1.1913, -0.0200, -0.5039,  0.1598],\n",
       "        ...,\n",
       "        [ 1.8665, -0.0200,  0.0285,  0.1598],\n",
       "        [ 1.8665, -0.0200,  0.8270,  0.1598],\n",
       "        [ 1.8665, -0.0200, -0.7701, -0.4483]])"
      ]
     },
     "execution_count": 42,
     "metadata": {},
     "output_type": "execute_result"
    }
   ],
   "source": [
    "train_edge_attr"
   ]
  },
  {
   "cell_type": "code",
   "execution_count": 43,
   "metadata": {},
   "outputs": [],
   "source": [
    "train_timestamps = train_data[('node', 'to', 'node')].timestamps\n",
    "train_split_mask = train_data[('node', 'to', 'node')].split_mask"
   ]
  },
  {
   "cell_type": "code",
   "execution_count": 45,
   "metadata": {},
   "outputs": [
    {
     "data": {
      "text/plain": [
       "tensor([     0.,      0.,      0.,  ..., 518340., 518340., 518340.])"
      ]
     },
     "execution_count": 45,
     "metadata": {},
     "output_type": "execute_result"
    }
   ],
   "source": [
    "train_timestamps"
   ]
  },
  {
   "cell_type": "code",
   "execution_count": null,
   "metadata": {},
   "outputs": [
    {
     "data": {
      "text/plain": [
       "{'train': HeteroData(\n",
       "   node={\n",
       "     x=[705907, 1],\n",
       "     num_nodes=705907,\n",
       "   },\n",
       "   (node, to, node)={\n",
       "     edge_index=[2, 4432934],\n",
       "     edge_attr=[4432934, 4],\n",
       "     y=[4432934],\n",
       "     timestamps=[4432934],\n",
       "     split_mask=[4432934],\n",
       "   },\n",
       "   (node, rev_to, node)={\n",
       "     edge_index=[2, 4432934],\n",
       "     edge_attr=[4432934, 4],\n",
       "   }\n",
       " ),\n",
       " 'val': HeteroData(\n",
       "   node={\n",
       "     x=[705907, 1],\n",
       "     num_nodes=705907,\n",
       "   },\n",
       "   (node, to, node)={\n",
       "     edge_index=[2, 5749376],\n",
       "     edge_attr=[5749376, 4],\n",
       "     y=[5749376],\n",
       "     timestamps=[5749376],\n",
       "     split_mask=[5749376],\n",
       "   },\n",
       "   (node, rev_to, node)={\n",
       "     edge_index=[2, 5749376],\n",
       "     edge_attr=[5749376, 4],\n",
       "   }\n",
       " ),\n",
       " 'test': HeteroData(\n",
       "   node={\n",
       "     x=[705907, 1],\n",
       "     num_nodes=705907,\n",
       "   },\n",
       "   (node, to, node)={\n",
       "     edge_index=[2, 6924049],\n",
       "     edge_attr=[6924049, 4],\n",
       "     y=[6924049],\n",
       "     timestamps=[6924049],\n",
       "     split_mask=[6924049],\n",
       "   },\n",
       "   (node, rev_to, node)={\n",
       "     edge_index=[2, 6924049],\n",
       "     edge_attr=[6924049, 4],\n",
       "   }\n",
       " )}"
      ]
     },
     "execution_count": 33,
     "metadata": {},
     "output_type": "execute_result"
    }
   ],
   "source": [
    "data = torch.load('data_small.pt')"
   ]
  },
  {
   "cell_type": "code",
   "execution_count": 34,
   "metadata": {},
   "outputs": [],
   "source": [
    "train_data = data['train']\n",
    "val_data = data['val']\n",
    "test_data = data['test']\n"
   ]
  },
  {
   "cell_type": "code",
   "execution_count": 37,
   "metadata": {},
   "outputs": [
    {
     "data": {
      "text/plain": [
       "tensor([[-1.1880, -0.0027, -0.7434, -0.6675],\n",
       "        [-1.1880, -0.0029, -0.7434, -1.2658],\n",
       "        [-1.1880, -0.0030, -0.7434,  0.5292],\n",
       "        ...,\n",
       "        [ 1.8746, -0.0030, -0.2666,  2.3242],\n",
       "        [ 1.8746, -0.0030, -0.2666,  2.3242],\n",
       "        [ 1.8746, -0.0030, -0.2666,  2.3242]])"
      ]
     },
     "execution_count": 37,
     "metadata": {},
     "output_type": "execute_result"
    }
   ],
   "source": [
    "train_data[('node', 'to', 'node')].edge_attr"
   ]
  },
  {
   "cell_type": "code",
   "execution_count": 1,
   "metadata": {},
   "outputs": [],
   "source": [
    "import pandas as pd\n",
    "import matplotlib.pyplot as plt\n",
    "import seaborn as sns\n",
    "pd.options.display.float_format = '{:.2f}'.format"
   ]
  },
  {
   "cell_type": "code",
   "execution_count": 2,
   "metadata": {},
   "outputs": [],
   "source": [
    "data = pd.read_csv('aml_datasets/Hi-Small_Trans.csv')"
   ]
  },
  {
   "cell_type": "code",
   "execution_count": 3,
   "metadata": {},
   "outputs": [
    {
     "data": {
      "text/plain": [
       "Index(['Timestamp', 'From Bank', 'Account', 'To Bank', 'Account.1',\n",
       "       'Amount Received', 'Receiving Currency', 'Amount Paid',\n",
       "       'Payment Currency', 'Payment Format', 'Is Laundering'],\n",
       "      dtype='object')"
      ]
     },
     "execution_count": 3,
     "metadata": {},
     "output_type": "execute_result"
    }
   ],
   "source": [
    "data.columns"
   ]
  },
  {
   "cell_type": "code",
   "execution_count": 4,
   "metadata": {},
   "outputs": [
    {
     "data": {
      "text/plain": [
       "5335"
      ]
     },
     "execution_count": 4,
     "metadata": {},
     "output_type": "execute_result"
    }
   ],
   "source": [
    "len(data['From Bank'].unique())"
   ]
  },
  {
   "cell_type": "code",
   "execution_count": 5,
   "metadata": {},
   "outputs": [
    {
     "data": {
      "text/plain": [
       "2613"
      ]
     },
     "execution_count": 5,
     "metadata": {},
     "output_type": "execute_result"
    }
   ],
   "source": [
    "len(data['To Bank'].unique())"
   ]
  },
  {
   "cell_type": "code",
   "execution_count": null,
   "metadata": {},
   "outputs": [],
   "source": [
    "def bank_metadata(data,DatasetName):\n",
    "    all_banks = list(set(data['From Bank'].unique()).union(set(data['To Bank'].unique()))) #Get all unique banks\n",
    "    in_degree = []\n",
    "    out_degree = []\n",
    "    transactions_amount = []\n",
    "    in_degree_sum = []\n",
    "    out_degree_sum = []\n",
    "    transactions_sum = []\n",
    "\n",
    "    for bank in all_banks: \n",
    "        bank_data = data[(data['From Bank']==bank) | (data['To Bank']==bank)]\n",
    "        trans_to =  bank_data[bank_data['To Bank']==bank].shape[0] #Basically the in-degree\n",
    "        trans_from = bank_data[bank_data['From Bank']==bank].shape[0] #Basically the out-degree\n",
    "        trans_total = bank_data.shape[0] #Total amount of transactions through that bank \n",
    "        trans_to_sum = bank_data[bank_data['To Bank']==bank]['Amount Received'].sum() #Money received at the bank \n",
    "        trans_from_sum = bank_data[bank_data['From Bank']==bank]['Amount Paid'].sum() # Money send from the bank \n",
    "        trans_sum = trans_to_sum + trans_from_sum\n",
    "\n",
    "        #Append calculated data to the lists generated:\n",
    "        in_degree.append(trans_to)\n",
    "        out_degree.append(trans_from)\n",
    "        transactions_amount.append(trans_total)\n",
    "        in_degree_sum.append(trans_to_sum)\n",
    "        out_degree_sum.append(trans_from_sum)\n",
    "        transactions_sum.append(trans_sum)\n",
    "        \n",
    "    all_data = pd.DataFrame({\n",
    "        'Bank_id' : all_banks,\n",
    "        'in_degree' : in_degree,\n",
    "        'out_degree' : out_degree,\n",
    "        'transaction_count' : transactions_amount,\n",
    "        'in_degree_sum' : in_degree_sum,\n",
    "        'out_degree_sum': out_degree_sum,\n",
    "        'transaction_sum': transactions_sum        \n",
    "    })\n",
    "\n",
    "    #Plotting - All the plots \n",
    "    # List of columns to plot\n",
    "    columns_to_plot = ['in_degree', 'out_degree', 'transaction_count', 'in_degree_sum', 'out_degree_sum', 'transaction_sum']\n",
    "\n",
    "    # Plotting the distributions\n",
    "    fig, axes = plt.subplots(nrows=2, ncols=3, figsize=(18, 12))\n",
    "    fig.suptitle(f'Log-Scaled Distribution of banks in dataset {DatasetName}')\n",
    "\n",
    " \n",
    "    for ax, column in zip(axes.flatten(), columns_to_plot):\n",
    "        n, bins, patches = ax.hist(all_data[column], bins=20, edgecolor='k', log=True)\n",
    "        ax.set_title(f'Log-Scaled Distribution of {column} ')\n",
    "        ax.set_xlabel(column)\n",
    "        ax.set_ylabel('Frequency')\n",
    "        \n",
    "    plt.tight_layout(rect=[0, 0, 1, 0.96])\n",
    "    plt.savefig(f'bank_analysis/{DatasetName}_bank_figure.png')\n",
    "\n",
    "\n",
    "    return all_data"
   ]
  },
  {
   "cell_type": "code",
   "execution_count": 23,
   "metadata": {},
   "outputs": [
    {
     "data": {
      "image/png": "[encoded data removed]",
      "text/plain": [
       "<Figure size 1800x1200 with 6 Axes>"
      ]
     },
     "metadata": {},
     "output_type": "display_data"
    }
   ],
   "source": [
    "all_data = bank_metadata(data, 'IBM Small-HI')"
   ]
  },
  {
   "cell_type": "code",
   "execution_count": 96,
   "metadata": {},
   "outputs": [
    {
     "data": {
      "text/html": [
       "<div>\n",
       "<style scoped>\n",
       "    .dataframe tbody tr th:only-of-type {\n",
       "        vertical-align: middle;\n",
       "    }\n",
       "\n",
       "    .dataframe tbody tr th {\n",
       "        vertical-align: top;\n",
       "    }\n",
       "\n",
       "    .dataframe thead th {\n",
       "        text-align: right;\n",
       "    }\n",
       "</style>\n",
       "<table border=\"1\" class=\"dataframe\">\n",
       "  <thead>\n",
       "    <tr style=\"text-align: right;\">\n",
       "      <th></th>\n",
       "      <th>Bank_id</th>\n",
       "      <th>in_degree</th>\n",
       "      <th>out_degree</th>\n",
       "      <th>transaction_count</th>\n",
       "      <th>in_degree_sum</th>\n",
       "      <th>out_degree_sum</th>\n",
       "      <th>transaction_sum</th>\n",
       "    </tr>\n",
       "  </thead>\n",
       "  <tbody>\n",
       "    <tr>\n",
       "      <th>0</th>\n",
       "      <td>16384</td>\n",
       "      <td>5</td>\n",
       "      <td>2</td>\n",
       "      <td>6</td>\n",
       "      <td>2275919.17</td>\n",
       "      <td>1228991.09</td>\n",
       "      <td>3504910.26</td>\n",
       "    </tr>\n",
       "    <tr>\n",
       "      <th>1</th>\n",
       "      <td>1</td>\n",
       "      <td>626</td>\n",
       "      <td>1223</td>\n",
       "      <td>1717</td>\n",
       "      <td>340839171.63</td>\n",
       "      <td>311704894.94</td>\n",
       "      <td>652544066.57</td>\n",
       "    </tr>\n",
       "    <tr>\n",
       "      <th>2</th>\n",
       "      <td>32769</td>\n",
       "      <td>1</td>\n",
       "      <td>1</td>\n",
       "      <td>1</td>\n",
       "      <td>1496.73</td>\n",
       "      <td>1496.73</td>\n",
       "      <td>2993.46</td>\n",
       "    </tr>\n",
       "    <tr>\n",
       "      <th>3</th>\n",
       "      <td>3</td>\n",
       "      <td>566</td>\n",
       "      <td>791</td>\n",
       "      <td>1191</td>\n",
       "      <td>2280373109.94</td>\n",
       "      <td>3753258207.16</td>\n",
       "      <td>6033631317.10</td>\n",
       "    </tr>\n",
       "    <tr>\n",
       "      <th>4</th>\n",
       "      <td>4</td>\n",
       "      <td>349</td>\n",
       "      <td>426</td>\n",
       "      <td>713</td>\n",
       "      <td>1014095165.90</td>\n",
       "      <td>1514639800.44</td>\n",
       "      <td>2528734966.34</td>\n",
       "    </tr>\n",
       "    <tr>\n",
       "      <th>...</th>\n",
       "      <td>...</td>\n",
       "      <td>...</td>\n",
       "      <td>...</td>\n",
       "      <td>...</td>\n",
       "      <td>...</td>\n",
       "      <td>...</td>\n",
       "      <td>...</td>\n",
       "    </tr>\n",
       "    <tr>\n",
       "      <th>5454</th>\n",
       "      <td>49142</td>\n",
       "      <td>4</td>\n",
       "      <td>1</td>\n",
       "      <td>5</td>\n",
       "      <td>819974.09</td>\n",
       "      <td>2314.41</td>\n",
       "      <td>822288.50</td>\n",
       "    </tr>\n",
       "    <tr>\n",
       "      <th>5455</th>\n",
       "      <td>344055</td>\n",
       "      <td>0</td>\n",
       "      <td>1</td>\n",
       "      <td>1</td>\n",
       "      <td>0.00</td>\n",
       "      <td>0.13</td>\n",
       "      <td>0.13</td>\n",
       "    </tr>\n",
       "    <tr>\n",
       "      <th>5456</th>\n",
       "      <td>327670</td>\n",
       "      <td>0</td>\n",
       "      <td>1</td>\n",
       "      <td>1</td>\n",
       "      <td>0.00</td>\n",
       "      <td>287.45</td>\n",
       "      <td>287.45</td>\n",
       "    </tr>\n",
       "    <tr>\n",
       "      <th>5457</th>\n",
       "      <td>327675</td>\n",
       "      <td>1</td>\n",
       "      <td>1</td>\n",
       "      <td>1</td>\n",
       "      <td>2640.43</td>\n",
       "      <td>2640.43</td>\n",
       "      <td>5280.86</td>\n",
       "    </tr>\n",
       "    <tr>\n",
       "      <th>5458</th>\n",
       "      <td>311292</td>\n",
       "      <td>0</td>\n",
       "      <td>1</td>\n",
       "      <td>1</td>\n",
       "      <td>0.00</td>\n",
       "      <td>80.05</td>\n",
       "      <td>80.05</td>\n",
       "    </tr>\n",
       "  </tbody>\n",
       "</table>\n",
       "<p>5459 rows × 7 columns</p>\n",
       "</div>"
      ],
      "text/plain": [
       "      Bank_id  in_degree  out_degree  transaction_count  in_degree_sum  \\\n",
       "0       16384          5           2                  6     2275919.17   \n",
       "1           1        626        1223               1717   340839171.63   \n",
       "2       32769          1           1                  1        1496.73   \n",
       "3           3        566         791               1191  2280373109.94   \n",
       "4           4        349         426                713  1014095165.90   \n",
       "...       ...        ...         ...                ...            ...   \n",
       "5454    49142          4           1                  5      819974.09   \n",
       "5455   344055          0           1                  1           0.00   \n",
       "5456   327670          0           1                  1           0.00   \n",
       "5457   327675          1           1                  1        2640.43   \n",
       "5458   311292          0           1                  1           0.00   \n",
       "\n",
       "      out_degree_sum  transaction_sum  \n",
       "0         1228991.09       3504910.26  \n",
       "1       311704894.94     652544066.57  \n",
       "2            1496.73          2993.46  \n",
       "3      3753258207.16    6033631317.10  \n",
       "4      1514639800.44    2528734966.34  \n",
       "...              ...              ...  \n",
       "5454         2314.41        822288.50  \n",
       "5455            0.13             0.13  \n",
       "5456          287.45           287.45  \n",
       "5457         2640.43          5280.86  \n",
       "5458           80.05            80.05  \n",
       "\n",
       "[5459 rows x 7 columns]"
      ]
     },
     "execution_count": 96,
     "metadata": {},
     "output_type": "execute_result"
    }
   ],
   "source": [
    "all_data"
   ]
  },
  {
   "cell_type": "code",
   "execution_count": 3,
   "metadata": {},
   "outputs": [],
   "source": [
    "\n",
    "def bank_metadata(data, DatasetName):\n",
    "    all_data = data.groupby('Bank').agg(\n",
    "        in_degree=pd.NamedAgg(column='To Bank', aggfunc='size'),\n",
    "        out_degree=pd.NamedAgg(column='From Bank', aggfunc='size'),\n",
    "        transaction_count=pd.NamedAgg(column='From Bank', aggfunc='count'),\n",
    "        in_degree_sum=pd.NamedAgg(column='Amount Received', aggfunc='sum'),\n",
    "        out_degree_sum=pd.NamedAgg(column='Amount Paid', aggfunc='sum'),\n",
    "        transaction_sum=pd.NamedAgg(column='Amount Paid', aggfunc='sum')\n",
    "    ).reset_index()\n",
    "\n",
    "    # Plotting - All the plots\n",
    "    columns_to_plot = ['in_degree', 'out_degree', 'transaction_count', 'in_degree_sum', 'out_degree_sum', 'transaction_sum']\n",
    "\n",
    "    fig, axes = plt.subplots(nrows=2, ncols=3, figsize=(18, 12))\n",
    "    fig.suptitle(f'Log-Scaled Distribution of banks in dataset {DatasetName}')\n",
    "\n",
    "    for ax, column in zip(axes.flatten(), columns_to_plot):\n",
    "        n, bins, patches = ax.hist(all_data[column], bins=20, edgecolor='k', log=True)\n",
    "        ax.set_title(f'Log-Scaled Distribution of {column} ')\n",
    "        ax.set_xlabel(column)\n",
    "        ax.set_ylabel('Frequency')\n",
    "        \n",
    "    plt.tight_layout(rect=[0, 0, 1, 0.96])\n",
    "    plt.savefig(f'bank_analysis/{DatasetName}_bank_figure.png')\n",
    "\n",
    "    return all_data\n"
   ]
  },
  {
   "cell_type": "code",
   "execution_count": 5,
   "metadata": {},
   "outputs": [
    {
     "ename": "KeyError",
     "evalue": "'Bank'",
     "output_type": "error",
     "traceback": [
      "\u001b[1;31m---------------------------------------------------------------------------\u001b[0m",
      "\u001b[1;31mKeyError\u001b[0m                                  Traceback (most recent call last)",
      "Cell \u001b[1;32mIn[5], line 1\u001b[0m\n\u001b[1;32m----> 1\u001b[0m \u001b[43mbank_metadata\u001b[49m\u001b[43m(\u001b[49m\u001b[43mdata\u001b[49m\u001b[43m,\u001b[49m\u001b[43m \u001b[49m\u001b[38;5;124;43m'\u001b[39;49m\u001b[38;5;124;43mAML_Small_LI\u001b[39;49m\u001b[38;5;124;43m'\u001b[39;49m\u001b[43m)\u001b[49m\n",
      "Cell \u001b[1;32mIn[3], line 2\u001b[0m, in \u001b[0;36mbank_metadata\u001b[1;34m(data, DatasetName)\u001b[0m\n\u001b[0;32m      1\u001b[0m \u001b[38;5;28;01mdef\u001b[39;00m \u001b[38;5;21mbank_metadata\u001b[39m(data, DatasetName):\n\u001b[1;32m----> 2\u001b[0m     all_data \u001b[38;5;241m=\u001b[39m \u001b[43mdata\u001b[49m\u001b[38;5;241;43m.\u001b[39;49m\u001b[43mgroupby\u001b[49m\u001b[43m(\u001b[49m\u001b[38;5;124;43m'\u001b[39;49m\u001b[38;5;124;43mBank\u001b[39;49m\u001b[38;5;124;43m'\u001b[39;49m\u001b[43m)\u001b[49m\u001b[38;5;241m.\u001b[39magg(\n\u001b[0;32m      3\u001b[0m         in_degree\u001b[38;5;241m=\u001b[39mpd\u001b[38;5;241m.\u001b[39mNamedAgg(column\u001b[38;5;241m=\u001b[39m\u001b[38;5;124m'\u001b[39m\u001b[38;5;124mTo Bank\u001b[39m\u001b[38;5;124m'\u001b[39m, aggfunc\u001b[38;5;241m=\u001b[39m\u001b[38;5;124m'\u001b[39m\u001b[38;5;124msize\u001b[39m\u001b[38;5;124m'\u001b[39m),\n\u001b[0;32m      4\u001b[0m         out_degree\u001b[38;5;241m=\u001b[39mpd\u001b[38;5;241m.\u001b[39mNamedAgg(column\u001b[38;5;241m=\u001b[39m\u001b[38;5;124m'\u001b[39m\u001b[38;5;124mFrom Bank\u001b[39m\u001b[38;5;124m'\u001b[39m, aggfunc\u001b[38;5;241m=\u001b[39m\u001b[38;5;124m'\u001b[39m\u001b[38;5;124msize\u001b[39m\u001b[38;5;124m'\u001b[39m),\n\u001b[0;32m      5\u001b[0m         transaction_count\u001b[38;5;241m=\u001b[39mpd\u001b[38;5;241m.\u001b[39mNamedAgg(column\u001b[38;5;241m=\u001b[39m\u001b[38;5;124m'\u001b[39m\u001b[38;5;124mFrom Bank\u001b[39m\u001b[38;5;124m'\u001b[39m, aggfunc\u001b[38;5;241m=\u001b[39m\u001b[38;5;124m'\u001b[39m\u001b[38;5;124mcount\u001b[39m\u001b[38;5;124m'\u001b[39m),\n\u001b[0;32m      6\u001b[0m         in_degree_sum\u001b[38;5;241m=\u001b[39mpd\u001b[38;5;241m.\u001b[39mNamedAgg(column\u001b[38;5;241m=\u001b[39m\u001b[38;5;124m'\u001b[39m\u001b[38;5;124mAmount Received\u001b[39m\u001b[38;5;124m'\u001b[39m, aggfunc\u001b[38;5;241m=\u001b[39m\u001b[38;5;124m'\u001b[39m\u001b[38;5;124msum\u001b[39m\u001b[38;5;124m'\u001b[39m),\n\u001b[0;32m      7\u001b[0m         out_degree_sum\u001b[38;5;241m=\u001b[39mpd\u001b[38;5;241m.\u001b[39mNamedAgg(column\u001b[38;5;241m=\u001b[39m\u001b[38;5;124m'\u001b[39m\u001b[38;5;124mAmount Paid\u001b[39m\u001b[38;5;124m'\u001b[39m, aggfunc\u001b[38;5;241m=\u001b[39m\u001b[38;5;124m'\u001b[39m\u001b[38;5;124msum\u001b[39m\u001b[38;5;124m'\u001b[39m),\n\u001b[0;32m      8\u001b[0m         transaction_sum\u001b[38;5;241m=\u001b[39mpd\u001b[38;5;241m.\u001b[39mNamedAgg(column\u001b[38;5;241m=\u001b[39m\u001b[38;5;124m'\u001b[39m\u001b[38;5;124mAmount Paid\u001b[39m\u001b[38;5;124m'\u001b[39m, aggfunc\u001b[38;5;241m=\u001b[39m\u001b[38;5;124m'\u001b[39m\u001b[38;5;124msum\u001b[39m\u001b[38;5;124m'\u001b[39m)\n\u001b[0;32m      9\u001b[0m     )\u001b[38;5;241m.\u001b[39mreset_index()\n\u001b[0;32m     11\u001b[0m     \u001b[38;5;66;03m# Plotting - All the plots\u001b[39;00m\n\u001b[0;32m     12\u001b[0m     columns_to_plot \u001b[38;5;241m=\u001b[39m [\u001b[38;5;124m'\u001b[39m\u001b[38;5;124min_degree\u001b[39m\u001b[38;5;124m'\u001b[39m, \u001b[38;5;124m'\u001b[39m\u001b[38;5;124mout_degree\u001b[39m\u001b[38;5;124m'\u001b[39m, \u001b[38;5;124m'\u001b[39m\u001b[38;5;124mtransaction_count\u001b[39m\u001b[38;5;124m'\u001b[39m, \u001b[38;5;124m'\u001b[39m\u001b[38;5;124min_degree_sum\u001b[39m\u001b[38;5;124m'\u001b[39m, \u001b[38;5;124m'\u001b[39m\u001b[38;5;124mout_degree_sum\u001b[39m\u001b[38;5;124m'\u001b[39m, \u001b[38;5;124m'\u001b[39m\u001b[38;5;124mtransaction_sum\u001b[39m\u001b[38;5;124m'\u001b[39m]\n",
      "File \u001b[1;32mc:\\Users\\adagi\\anaconda3\\envs\\rp\\Lib\\site-packages\\pandas\\core\\frame.py:9183\u001b[0m, in \u001b[0;36mDataFrame.groupby\u001b[1;34m(self, by, axis, level, as_index, sort, group_keys, observed, dropna)\u001b[0m\n\u001b[0;32m   9180\u001b[0m \u001b[38;5;28;01mif\u001b[39;00m level \u001b[38;5;129;01mis\u001b[39;00m \u001b[38;5;28;01mNone\u001b[39;00m \u001b[38;5;129;01mand\u001b[39;00m by \u001b[38;5;129;01mis\u001b[39;00m \u001b[38;5;28;01mNone\u001b[39;00m:\n\u001b[0;32m   9181\u001b[0m     \u001b[38;5;28;01mraise\u001b[39;00m \u001b[38;5;167;01mTypeError\u001b[39;00m(\u001b[38;5;124m\"\u001b[39m\u001b[38;5;124mYou have to supply one of \u001b[39m\u001b[38;5;124m'\u001b[39m\u001b[38;5;124mby\u001b[39m\u001b[38;5;124m'\u001b[39m\u001b[38;5;124m and \u001b[39m\u001b[38;5;124m'\u001b[39m\u001b[38;5;124mlevel\u001b[39m\u001b[38;5;124m'\u001b[39m\u001b[38;5;124m\"\u001b[39m)\n\u001b[1;32m-> 9183\u001b[0m \u001b[38;5;28;01mreturn\u001b[39;00m \u001b[43mDataFrameGroupBy\u001b[49m\u001b[43m(\u001b[49m\n\u001b[0;32m   9184\u001b[0m \u001b[43m    \u001b[49m\u001b[43mobj\u001b[49m\u001b[38;5;241;43m=\u001b[39;49m\u001b[38;5;28;43mself\u001b[39;49m\u001b[43m,\u001b[49m\n\u001b[0;32m   9185\u001b[0m \u001b[43m    \u001b[49m\u001b[43mkeys\u001b[49m\u001b[38;5;241;43m=\u001b[39;49m\u001b[43mby\u001b[49m\u001b[43m,\u001b[49m\n\u001b[0;32m   9186\u001b[0m \u001b[43m    \u001b[49m\u001b[43maxis\u001b[49m\u001b[38;5;241;43m=\u001b[39;49m\u001b[43maxis\u001b[49m\u001b[43m,\u001b[49m\n\u001b[0;32m   9187\u001b[0m \u001b[43m    \u001b[49m\u001b[43mlevel\u001b[49m\u001b[38;5;241;43m=\u001b[39;49m\u001b[43mlevel\u001b[49m\u001b[43m,\u001b[49m\n\u001b[0;32m   9188\u001b[0m \u001b[43m    \u001b[49m\u001b[43mas_index\u001b[49m\u001b[38;5;241;43m=\u001b[39;49m\u001b[43mas_index\u001b[49m\u001b[43m,\u001b[49m\n\u001b[0;32m   9189\u001b[0m \u001b[43m    \u001b[49m\u001b[43msort\u001b[49m\u001b[38;5;241;43m=\u001b[39;49m\u001b[43msort\u001b[49m\u001b[43m,\u001b[49m\n\u001b[0;32m   9190\u001b[0m \u001b[43m    \u001b[49m\u001b[43mgroup_keys\u001b[49m\u001b[38;5;241;43m=\u001b[39;49m\u001b[43mgroup_keys\u001b[49m\u001b[43m,\u001b[49m\n\u001b[0;32m   9191\u001b[0m \u001b[43m    \u001b[49m\u001b[43mobserved\u001b[49m\u001b[38;5;241;43m=\u001b[39;49m\u001b[43mobserved\u001b[49m\u001b[43m,\u001b[49m\n\u001b[0;32m   9192\u001b[0m \u001b[43m    \u001b[49m\u001b[43mdropna\u001b[49m\u001b[38;5;241;43m=\u001b[39;49m\u001b[43mdropna\u001b[49m\u001b[43m,\u001b[49m\n\u001b[0;32m   9193\u001b[0m \u001b[43m\u001b[49m\u001b[43m)\u001b[49m\n",
      "File \u001b[1;32mc:\\Users\\adagi\\anaconda3\\envs\\rp\\Lib\\site-packages\\pandas\\core\\groupby\\groupby.py:1329\u001b[0m, in \u001b[0;36mGroupBy.__init__\u001b[1;34m(self, obj, keys, axis, level, grouper, exclusions, selection, as_index, sort, group_keys, observed, dropna)\u001b[0m\n\u001b[0;32m   1326\u001b[0m \u001b[38;5;28mself\u001b[39m\u001b[38;5;241m.\u001b[39mdropna \u001b[38;5;241m=\u001b[39m dropna\n\u001b[0;32m   1328\u001b[0m \u001b[38;5;28;01mif\u001b[39;00m grouper \u001b[38;5;129;01mis\u001b[39;00m \u001b[38;5;28;01mNone\u001b[39;00m:\n\u001b[1;32m-> 1329\u001b[0m     grouper, exclusions, obj \u001b[38;5;241m=\u001b[39m \u001b[43mget_grouper\u001b[49m\u001b[43m(\u001b[49m\n\u001b[0;32m   1330\u001b[0m \u001b[43m        \u001b[49m\u001b[43mobj\u001b[49m\u001b[43m,\u001b[49m\n\u001b[0;32m   1331\u001b[0m \u001b[43m        \u001b[49m\u001b[43mkeys\u001b[49m\u001b[43m,\u001b[49m\n\u001b[0;32m   1332\u001b[0m \u001b[43m        \u001b[49m\u001b[43maxis\u001b[49m\u001b[38;5;241;43m=\u001b[39;49m\u001b[43maxis\u001b[49m\u001b[43m,\u001b[49m\n\u001b[0;32m   1333\u001b[0m \u001b[43m        \u001b[49m\u001b[43mlevel\u001b[49m\u001b[38;5;241;43m=\u001b[39;49m\u001b[43mlevel\u001b[49m\u001b[43m,\u001b[49m\n\u001b[0;32m   1334\u001b[0m \u001b[43m        \u001b[49m\u001b[43msort\u001b[49m\u001b[38;5;241;43m=\u001b[39;49m\u001b[43msort\u001b[49m\u001b[43m,\u001b[49m\n\u001b[0;32m   1335\u001b[0m \u001b[43m        \u001b[49m\u001b[43mobserved\u001b[49m\u001b[38;5;241;43m=\u001b[39;49m\u001b[38;5;28;43;01mFalse\u001b[39;49;00m\u001b[43m \u001b[49m\u001b[38;5;28;43;01mif\u001b[39;49;00m\u001b[43m \u001b[49m\u001b[43mobserved\u001b[49m\u001b[43m \u001b[49m\u001b[38;5;129;43;01mis\u001b[39;49;00m\u001b[43m \u001b[49m\u001b[43mlib\u001b[49m\u001b[38;5;241;43m.\u001b[39;49m\u001b[43mno_default\u001b[49m\u001b[43m \u001b[49m\u001b[38;5;28;43;01melse\u001b[39;49;00m\u001b[43m \u001b[49m\u001b[43mobserved\u001b[49m\u001b[43m,\u001b[49m\n\u001b[0;32m   1336\u001b[0m \u001b[43m        \u001b[49m\u001b[43mdropna\u001b[49m\u001b[38;5;241;43m=\u001b[39;49m\u001b[38;5;28;43mself\u001b[39;49m\u001b[38;5;241;43m.\u001b[39;49m\u001b[43mdropna\u001b[49m\u001b[43m,\u001b[49m\n\u001b[0;32m   1337\u001b[0m \u001b[43m    \u001b[49m\u001b[43m)\u001b[49m\n\u001b[0;32m   1339\u001b[0m \u001b[38;5;28;01mif\u001b[39;00m observed \u001b[38;5;129;01mis\u001b[39;00m lib\u001b[38;5;241m.\u001b[39mno_default:\n\u001b[0;32m   1340\u001b[0m     \u001b[38;5;28;01mif\u001b[39;00m \u001b[38;5;28many\u001b[39m(ping\u001b[38;5;241m.\u001b[39m_passed_categorical \u001b[38;5;28;01mfor\u001b[39;00m ping \u001b[38;5;129;01min\u001b[39;00m grouper\u001b[38;5;241m.\u001b[39mgroupings):\n",
      "File \u001b[1;32mc:\\Users\\adagi\\anaconda3\\envs\\rp\\Lib\\site-packages\\pandas\\core\\groupby\\grouper.py:1043\u001b[0m, in \u001b[0;36mget_grouper\u001b[1;34m(obj, key, axis, level, sort, observed, validate, dropna)\u001b[0m\n\u001b[0;32m   1041\u001b[0m         in_axis, level, gpr \u001b[38;5;241m=\u001b[39m \u001b[38;5;28;01mFalse\u001b[39;00m, gpr, \u001b[38;5;28;01mNone\u001b[39;00m\n\u001b[0;32m   1042\u001b[0m     \u001b[38;5;28;01melse\u001b[39;00m:\n\u001b[1;32m-> 1043\u001b[0m         \u001b[38;5;28;01mraise\u001b[39;00m \u001b[38;5;167;01mKeyError\u001b[39;00m(gpr)\n\u001b[0;32m   1044\u001b[0m \u001b[38;5;28;01melif\u001b[39;00m \u001b[38;5;28misinstance\u001b[39m(gpr, Grouper) \u001b[38;5;129;01mand\u001b[39;00m gpr\u001b[38;5;241m.\u001b[39mkey \u001b[38;5;129;01mis\u001b[39;00m \u001b[38;5;129;01mnot\u001b[39;00m \u001b[38;5;28;01mNone\u001b[39;00m:\n\u001b[0;32m   1045\u001b[0m     \u001b[38;5;66;03m# Add key to exclusions\u001b[39;00m\n\u001b[0;32m   1046\u001b[0m     exclusions\u001b[38;5;241m.\u001b[39madd(gpr\u001b[38;5;241m.\u001b[39mkey)\n",
      "\u001b[1;31mKeyError\u001b[0m: 'Bank'"
     ]
    }
   ],
   "source": [
    "bank_metadata(data, 'AML_Small_LI')"
   ]
  },
  {
   "cell_type": "code",
   "execution_count": null,
   "metadata": {},
   "outputs": [],
   "source": []
  }
 ],
 "metadata": {
  "kernelspec": {
   "display_name": "rp",
   "language": "python",
   "name": "python3"
  },
  "language_info": {
   "codemirror_mode": {
    "name": "ipython",
    "version": 3
   },
   "file_extension": ".py",
   "mimetype": "text/x-python",
   "name": "python",
   "nbconvert_exporter": "python",
   "pygments_lexer": "ipython3",
   "version": "3.12.7"
  }
 },
 "nbformat": 4,
 "nbformat_minor": 2
}
